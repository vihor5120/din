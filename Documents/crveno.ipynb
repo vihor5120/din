{
 "cells": [
  {
   "cell_type": "code",
   "execution_count": null,
   "metadata": {},
   "outputs": [],
   "source": [
    "import pandas as pd\n",
    "import matplotlib.pyplot as plt\n"
   ]
  },
  {
   "cell_type": "code",
   "execution_count": null,
   "metadata": {},
   "outputs": [],
   "source": [
    "# Učitavanje podataka crvenog vina\n",
    "vino_crveno = pd.read_csv('C:\\Users\\ispit\\Downloads\\\\\\winequality-red.csv', sep = ';')"
   ]
  },
  {
   "cell_type": "code",
   "execution_count": null,
   "metadata": {},
   "outputs": [],
   "source": [
    "# Izračunavanje korelacije\n",
    "korelacija_crveno = vino_crveno.corrwith(vino_crveno['density']).abs()\n",
    "\n",
    "print(f\"Najveća korelacija sa 'density' (isključujući 'density') je: {NajvecaKorelacija_crveno}\")"
   ]
  },
  {
   "cell_type": "code",
   "execution_count": null,
   "metadata": {},
   "outputs": [],
   "source": [
    "print(f\"Najveća korelacija sa 'density' (isključujući 'density') je: {NajvecaKorelacija_crveno}\")"
   ]
  },
  {
   "cell_type": "code",
   "execution_count": null,
   "metadata": {},
   "outputs": [],
   "source": [
    "# Iscrtavanje histograma\n",
    "plt.figure(figsize=(10, 6))"
   ]
  },
  {
   "cell_type": "code",
   "execution_count": null,
   "metadata": {},
   "outputs": [],
   "source": [
    "# Histogram za residual sugar u crvenom vinu\n",
    "plt.hist(vino_crveno['residual sugar'], bins=30, alpha=0.5, color='red', label='Residual Sugar')\n",
    "plt.title('Histogram Residual Sugar za crveno vino')\n",
    "plt.xlabel('Vrijednost', fontsize=14)\n",
    "plt.ylabel('Broj uzoraka', fontsize=14)\n",
    "plt.legend()\n",
    "plt.grid(True)\n",
    "plt.show()"
   ]
  }
 ],
 "metadata": {
  "language_info": {
   "name": "python"
  },
  "orig_nbformat": 4
 },
 "nbformat": 4,
 "nbformat_minor": 2
}
