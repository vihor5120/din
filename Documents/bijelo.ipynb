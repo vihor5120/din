{
 "cells": [
  {
   "cell_type": "code",
   "execution_count": null,
   "metadata": {},
   "outputs": [],
   "source": [
    "DIJAGRAM BIJELO\n",
    "import pandas as pd\n",
    "import matplotlib.pyplot as plt\n",
    "\n",
    "vino_bijelo = pd.read_csv('C:\\Users\\ispit\\Downloads\\\\\\winequality-white.csv', sep = ';')\n"
   ]
  },
  {
   "cell_type": "code",
   "execution_count": null,
   "metadata": {},
   "outputs": [],
   "source": [
    "korelacija = vino_bijelo.corrwith(vino_bijelo['density']).abs()\n",
    "\n",
    "print(korelacija)\n",
    "\n",
    "korelacija.drop('density', inplace=True)\n",
    "\n",
    "NajvecaKorelacija = korelacija.idxmax()\n",
    "\n",
    "print(f\"The column with the highest correlation with 'density' (excluding 'density' itself) is: {NajvecaKorelacija}\")\n"
   ]
  },
  {
   "cell_type": "code",
   "execution_count": null,
   "metadata": {},
   "outputs": [],
   "source": [
    "# Iscrtavanje histograma\n",
    "plt.figure(figsize=(10, 6))"
   ]
  },
  {
   "cell_type": "code",
   "execution_count": null,
   "metadata": {},
   "outputs": [],
   "source": [
    "# Histogram za residual sugar\n",
    "plt.hist(vino_bijelo['residual sugar'], bins=30, alpha=0.5, color='orange', label='Residual Sugar')\n",
    "plt.title('Histogram Residual Sugar')\n",
    "plt.xlabel('Vrijednost', fontsize=14)\n",
    "plt.ylabel('Broj uzoraka', fontsize=14)\n",
    "plt.legend()\n",
    "plt.grid(True)\n",
    "plt.show()"
   ]
  }
 ],
 "metadata": {
  "language_info": {
   "name": "python"
  },
  "orig_nbformat": 4
 },
 "nbformat": 4,
 "nbformat_minor": 2
}
